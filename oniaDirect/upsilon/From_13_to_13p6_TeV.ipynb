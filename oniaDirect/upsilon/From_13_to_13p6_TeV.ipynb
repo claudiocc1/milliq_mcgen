{
 "cells": [
  {
   "cell_type": "code",
   "execution_count": 1,
   "metadata": {},
   "outputs": [
    {
     "name": "stdout",
     "output_type": "stream",
     "text": [
      "Welcome to JupyROOT 6.24/06\n"
     ]
    }
   ],
   "source": [
    "from ROOT import TH1F, TFile, gROOT, gDirectory, TCanvas\n",
    "import math\n",
    "import numpy as np\n",
    "import matplotlib.pyplot as plt"
   ]
  },
  {
   "cell_type": "code",
   "execution_count": 2,
   "metadata": {},
   "outputs": [],
   "source": [
    "# Should we remake the Run 3 root files?\n",
    "# (The reason for this is that we do not need to \n",
    "# remake the Run 3 root files to just make the figure with the scaling)\n",
    "remakeRootFiles = False\n",
    "\n",
    "# Should we remake the figure with the scales?\n",
    "remakeFigure = False"
   ]
  },
  {
   "cell_type": "code",
   "execution_count": 3,
   "metadata": {},
   "outputs": [],
   "source": [
    "# Function to rescale the cross-section from 7 TeV to 13 TeV\n",
    "# Taken from milliq_mcgen/blob/master/oniaDirect/Atlas_7_TeV/makeOutput.py\n",
    "# Made it work for float or numpy ptrans \n",
    "# and change the truncation to 25 GeV\n",
    "def LHCBRescale(flag, ptrans):\n",
    "    qt = ptrans.copy()\n",
    "    if hasattr(qt , '__len__'):\n",
    "        np.clip(qt, -1, 25, out=qt)\n",
    "    else:\n",
    "        qt = 25\n",
    "\n",
    "    if flag == 1:   # upsilon 1S\n",
    "        return 1.152 + 0.05074*qt - 0.0007649*qt*qt\n",
    "    elif flag == 2: # upsilon 2S\n",
    "        return 1.07 + 0.05387*qt - 0.001126*qt*qt\n",
    "    elif flag == 3: # upsilon 3S\n",
    "        return 1.192 + 0.0516*qt - 0.001176*qt*qt\n",
    "\n",
    "    print(\"Illegal call to LHCBRescale\")\n",
    "    return 1.0"
   ]
  },
  {
   "cell_type": "code",
   "execution_count": 4,
   "metadata": {},
   "outputs": [],
   "source": [
    "inFiles   = [\"ups1S_combined.root\",      \"ups2S_combined.root\",      \"ups3S_combined.root\"]\n",
    "outFiles  = [\"ups1S_combined_run3.root\", \"ups2S_combined_run3.root\", \"ups3S_combined_run3.root\"]\n",
    "outScales = [\" \", \" \", \" \"]\n",
    "bC        = [\" \", ' ', ' ']\n",
    "for i in [0,1,2]: \n",
    "    \n",
    "    fin = TFile(inFiles[i])\n",
    "    # Get the contents of the histograms and the bin edges and centers\n",
    "    # Remove underflow\n",
    "    central    = np.array(gROOT.FindObject(\"central\"))[1:]\n",
    "    up         = np.array(gROOT.FindObject(\"up\"))[1:]\n",
    "    down       = np.array(gROOT.FindObject(\"down\"))[1:]\n",
    "    bins       = np.array(gROOT.FindObject(\"central\").GetXaxis().GetXbins())\n",
    "    binsCenter = 0.5 * (bins[:-1]+bins[1:])\n",
    "\n",
    "    # the scale factor to go from 13 to 13.6 extrapolated from the scale factor to go from 7 to 13\n",
    "    scale        = 1 + ((LHCBRescale(i+1, binsCenter) - 1) * (13.6-13)/(13-7))\n",
    "    outScales[i] =  scale\n",
    "    bC[i] = binsCenter\n",
    "    # add the overflow bin\n",
    "    scale = np.append(scale, scale[-1])\n",
    "    \n",
    "    # if we do not want to remake the root file we are done\n",
    "    if not remakeRootFiles:\n",
    "        continue\n",
    "    \n",
    "    # scale the arrays\n",
    "    central = scale*central\n",
    "    up      = scale*up\n",
    "    down    = scale*down\n",
    "    \n",
    "    # we need this later\n",
    "    y1 = gROOT.FindObject(\"central\")\n",
    "    \n",
    "    # open a new file\n",
    "    newfile = TFile(outFiles[i], \"RECREATE\")\n",
    "    \n",
    "    # The central, up, and down output histograms\n",
    "    hcen  = y1.Clone()\n",
    "    hup   = y1.Clone()\n",
    "    hdown = y1.Clone()\n",
    "    hcen.SetName(\"central\")\n",
    "    hcen.SetTitle(\"central\")\n",
    "    hup.SetName(\"up\")\n",
    "    hup.SetTitle(\"up\")\n",
    "    hdown.SetName(\"down\")\n",
    "    hdown.SetTitle(\"down\")\n",
    "    hcen.SetYTitle(\"BR(mumu) * dsigma/dpt (nb/GeV) for abs(y)<1.2\")\n",
    "    hup.SetYTitle(\"BR(mumu) * dsigma/dpt (nb/GeV) for abs(y)<1.2\")\n",
    "    hdown.SetYTitle(\"BR(mumu) * dsigma/dpt (nb/GeV) for abs(y)<1.2\")\n",
    "    \n",
    "    # zero everything out\n",
    "    hcen.Reset(\"ICESM\")\n",
    "    hup.Reset(\"ICESM\")\n",
    "    hdown.Reset(\"ICESM\")\n",
    "    \n",
    "    # fill the histograms\n",
    "    for i in range(len(central)):\n",
    "        j = i + 1\n",
    "        hcen.SetBinContent(j, central[i])\n",
    "        hup.SetBinContent(j, up[i])\n",
    "        hdown.SetBinContent(j, down[i])\n",
    "        hcen.SetBinError(j, 0)\n",
    "        hup.SetBinError(j, 0)\n",
    "        hdown.SetBinError(j, 0)\n",
    "    \n",
    "    # Write and close files\n",
    "    newfile.Write()\n",
    "    newfile.Close()\n",
    "    fin.Close()"
   ]
  },
  {
   "cell_type": "code",
   "execution_count": 5,
   "metadata": {},
   "outputs": [
    {
     "data": {
      "image/png": "[encoded data removed]",
      "text/plain": [
       "<Figure size 864x324 with 3 Axes>"
      ]
     },
     "metadata": {
      "needs_background": "light"
     },
     "output_type": "display_data"
    }
   ],
   "source": [
    "figure = plt.figure(figsize=(12, 4.5))\n",
    "ups = [r'$\\Upsilon$(1S)', r'$\\Upsilon$(2S)', r'$\\Upsilon$(3S)']\n",
    "ipl = 0\n",
    "for s,l,b in zip(outScales, ups, bC):\n",
    "    ipl = ipl+1\n",
    "    ax = plt.subplot(130+ipl)\n",
    "    ax.plot(b, s, label=l)\n",
    "    ax.grid()\n",
    "    ax.legend(fontsize='large')\n",
    "    ax.set_ylim(1,1.12)\n",
    "    ax.set_xlim(0,b[-1])\n",
    "    ax.set_ylabel('Run2 to Run3 scale factor')\n",
    "    \n",
    "plt.tight_layout()\n",
    "if remakeFigure:\n",
    "    figure.savefig(\"Run2_to_Run3_scale.pdf\")"
   ]
  },
  {
   "cell_type": "code",
   "execution_count": null,
   "metadata": {},
   "outputs": [],
   "source": []
  }
 ],
 "metadata": {
  "kernelspec": {
   "display_name": "Python 3 (ipykernel)",
   "language": "python",
   "name": "python3"
  },
  "language_info": {
   "codemirror_mode": {
    "name": "ipython",
    "version": 3
   },
   "file_extension": ".py",
   "mimetype": "text/x-python",
   "name": "python",
   "nbconvert_exporter": "python",
   "pygments_lexer": "ipython3",
   "version": "3.9.10"
  }
 },
 "nbformat": 4,
 "nbformat_minor": 4
}
