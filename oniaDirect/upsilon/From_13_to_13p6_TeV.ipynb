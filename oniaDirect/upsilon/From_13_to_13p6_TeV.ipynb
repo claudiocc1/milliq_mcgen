{
 "cells": [
  {
   "cell_type": "code",
   "execution_count": 1,
   "metadata": {},
   "outputs": [
    {
     "name": "stdout",
     "output_type": "stream",
     "text": [
      "Welcome to JupyROOT 6.24/06\n"
     ]
    }
   ],
   "source": [
    "from ROOT import TH1F, TFile, gROOT, gDirectory, TCanvas\n",
    "import math\n",
    "import numpy as np\n",
    "import matplotlib.pyplot as plt"
   ]
  },
  {
   "cell_type": "code",
   "execution_count": 2,
   "metadata": {},
   "outputs": [],
   "source": [
    "# Function to rescale the cross-section from 7 TeV to 13 TeV\n",
    "# Taken from milliq_mcgen/blob/master/oniaDirect/Atlas_7_TeV/makeOutput.py\n",
    "# Made it work for float or numpy ptrans \n",
    "def LHCBRescale(flag, ptrans):\n",
    "    qt = ptrans\n",
    "    if hasattr(qt , '__len__'):\n",
    "        np.clip(qt, -1, 25, out=qt)\n",
    "    else:\n",
    "        qt = 25\n",
    "\n",
    "    if flag == 1:   # upsilon 1S\n",
    "        return 1.152 + 0.05074*qt - 0.0007649*qt*qt\n",
    "    elif flag == 2: # upsilon 2S\n",
    "        return 1.07 + 0.05387*qt - 0.001126*qt*qt\n",
    "    elif flag == 3: # upsilon 3S\n",
    "        return 1.192 + 0.0516*qt - 0.001176*qt*qt\n",
    "\n",
    "    print(\"Illegal call to LHCBRescale\")\n",
    "    return 1.0"
   ]
  },
  {
   "cell_type": "code",
   "execution_count": 3,
   "metadata": {},
   "outputs": [
    {
     "name": "stdout",
     "output_type": "stream",
     "text": [
      "[9.89275649e-02 2.82306969e-01 4.32378948e-01 5.41470528e-01\n",
      " 6.26428187e-01 7.14591920e-01 7.61765361e-01 7.69992411e-01\n",
      " 7.46654510e-01 6.90009594e-01 6.20195210e-01 6.11965239e-01\n",
      " 5.43294549e-01 4.78983492e-01 4.35642987e-01 3.91575009e-01\n",
      " 3.42589259e-01 3.02617520e-01 2.68798172e-01 2.35263556e-01\n",
      " 1.88689113e-01 1.40552461e-01 1.10913709e-01 8.25574398e-02\n",
      " 6.75682724e-02 5.19322380e-02 4.06774879e-02 3.18038240e-02\n",
      " 2.50272918e-02 1.98803898e-02 1.34880000e-02 8.83200000e-03\n",
      " 5.92800000e-03 4.15200000e-03 2.88000000e-03 2.05200000e-03\n",
      " 1.52640000e-03 1.13280000e-03 7.96800000e-04 6.02400000e-04\n",
      " 4.89600000e-04 3.07200000e-04 1.93680000e-04 1.23840000e-04\n",
      " 7.99200000e-05 3.88800000e-05 1.03680000e-05 1.55520000e-06\n",
      " 0.00000000e+00]\n",
      "[3.71086225e-02 1.02433927e-01 1.26169890e-01 1.60220966e-01\n",
      " 1.57900378e-01 1.32499054e-01 1.16647534e-01 1.00338414e-01\n",
      " 7.85734877e-02 6.76861182e-02 4.61983122e-02 3.01062446e-02\n",
      " 2.08340865e-02 1.31870387e-02 8.38985853e-03 5.71200000e-03\n",
      " 3.76800000e-03 2.78400000e-03 1.89360000e-03 1.30800000e-03\n",
      " 9.93600000e-04 7.63200000e-04 5.78400000e-04 3.76800000e-04\n",
      " 3.02400000e-04 2.37360000e-04 1.48560000e-04 9.43200000e-05\n",
      " 6.43200000e-05 4.51200000e-05 2.39040000e-05 4.99200000e-06\n",
      " 1.38960000e-06 0.00000000e+00]\n",
      "[1.75973047e-02 4.26271744e-02 6.52992353e-02 6.62286133e-02\n",
      " 6.70559928e-02 6.33593202e-02 6.14278875e-02 5.32904565e-02\n",
      " 4.50760312e-02 3.53949144e-02 2.52721347e-02 1.90305449e-02\n",
      " 1.28912497e-02 8.26914515e-03 5.59935952e-03 3.84000000e-03\n",
      " 2.71200000e-03 1.89120000e-03 1.38960000e-03 9.50400000e-04\n",
      " 7.22400000e-04 5.61600000e-04 4.36800000e-04 3.21600000e-04\n",
      " 2.85600000e-04 1.75920000e-04 1.10160000e-04 7.77600000e-05\n",
      " 5.37600000e-05 3.43200000e-05 1.76640000e-05 4.75200000e-06\n",
      " 5.52000000e-07 0.00000000e+00]\n"
     ]
    }
   ],
   "source": [
    "inFiles  = [\"ups1S_combined.root\",      \"ups2S_combined.root\",      \"ups3S_combined.root\"]\n",
    "outFiles = [\"ups1S_combined_run3.root\", \"ups2S_combined_run3.root\", \"ups3S_combined_run3.root\"]\n",
    "for i in [0,1,2]:\n",
    "    \n",
    "    fin = TFile(inFiles[i])\n",
    "    # Get the contents of the histograms and the bin edges and centers\n",
    "    # Remove underflow\n",
    "    central    = np.array(gROOT.FindObject(\"central\"))[1:]\n",
    "    # print(central)\n",
    "    up         = np.array(gROOT.FindObject(\"up\"))[1:]\n",
    "    down       = np.array(gROOT.FindObject(\"down\"))[1:]\n",
    "    bins       = np.array(gROOT.FindObject(\"central\").GetXaxis().GetXbins())\n",
    "    binsCenter = 0.5 * (bins[:-1]+bins[1:])\n",
    "\n",
    "    # the scale factor to go from 13 to 13.6 extrapolated from the scale factor to go from 7 to 13\n",
    "    scale = 1 + ((LHCBRescale(i+1, binsCenter) - 1) * (13.6-13)/(13-7)) \n",
    "    # add the overflow bin\n",
    "    scale = np.append(scale, scale[-1])\n",
    "    \n",
    "    # scale the arrays\n",
    "    central = scale*central\n",
    "    up      = scale*up\n",
    "    down    = scale*down\n",
    "    \n",
    "    # we need this later\n",
    "    y1 = gROOT.FindObject(\"central\")\n",
    "    \n",
    "    # open a new file\n",
    "    newfile = TFile(outFiles[i], \"RECREATE\")\n",
    "    \n",
    "    # The central, up, and down output histograms\n",
    "    hcen  = y1.Clone()\n",
    "    hup   = y1.Clone()\n",
    "    hdown = y1.Clone()\n",
    "    hcen.SetName(\"central\")\n",
    "    hcen.SetTitle(\"central\")\n",
    "    hup.SetName(\"up\")\n",
    "    hup.SetTitle(\"up\")\n",
    "    hdown.SetName(\"down\")\n",
    "    hdown.SetTitle(\"down\")\n",
    "    hcen.SetYTitle(\"BR(mumu) * dsigma/dpt (nb/GeV) for abs(y)<1.2\")\n",
    "    hup.SetYTitle(\"BR(mumu) * dsigma/dpt (nb/GeV) for abs(y)<1.2\")\n",
    "    hdown.SetYTitle(\"BR(mumu) * dsigma/dpt (nb/GeV) for abs(y)<1.2\")\n",
    "    \n",
    "    # zero everything out\n",
    "    hcen.Reset(\"ICESM\")\n",
    "    hup.Reset(\"ICESM\")\n",
    "    hdown.Reset(\"ICESM\")\n",
    "    \n",
    "    # fill the histograms\n",
    "    for i in range(len(central)):\n",
    "        j = i + 1\n",
    "        hcen.SetBinContent(j, central[i])\n",
    "        hup.SetBinContent(j, up[i])\n",
    "        hdown.SetBinContent(j, down[i])\n",
    "        hcen.SetBinError(j, 0)\n",
    "        hup.SetBinError(j, 0)\n",
    "        hdown.SetBinError(j, 0)\n",
    "    \n",
    "    # Write and close files\n",
    "    newfile.Write()\n",
    "    newfile.Close()\n",
    "    fin.Close()"
   ]
  },
  {
   "cell_type": "code",
   "execution_count": 4,
   "metadata": {},
   "outputs": [
    {
     "data": {
      "text/plain": [
       "array([1.79800566e-02, 4.37642713e-02, 6.73473458e-02, 6.86008824e-02,\n",
       "       6.97408209e-02, 6.61485622e-02, 6.43623837e-02, 5.60234576e-02,\n",
       "       4.75355328e-02, 3.74338951e-02, 2.68321937e-02, 2.02942797e-02,\n",
       "       1.37954420e-02, 8.87224368e-03, 6.01811546e-03, 4.13068186e-03,\n",
       "       2.91721596e-03, 2.03247264e-03, 1.49340312e-03, 1.02139488e-03,\n",
       "       7.76363280e-04, 6.03551520e-04, 4.69428960e-04, 3.45623520e-04,\n",
       "       3.06934320e-04, 1.89061224e-04, 1.18388952e-04, 8.35686720e-05,\n",
       "       5.77758720e-05, 3.68837040e-05, 1.89835008e-05, 5.10697440e-06,\n",
       "       5.93234400e-07, 0.00000000e+00])"
      ]
     },
     "execution_count": 4,
     "metadata": {},
     "output_type": "execute_result"
    }
   ],
   "source": [
    "central"
   ]
  },
  {
   "cell_type": "code",
   "execution_count": 5,
   "metadata": {},
   "outputs": [
    {
     "data": {
      "text/plain": [
       "34"
      ]
     },
     "execution_count": 5,
     "metadata": {},
     "output_type": "execute_result"
    }
   ],
   "source": [
    "len(central)"
   ]
  },
  {
   "cell_type": "code",
   "execution_count": 6,
   "metadata": {},
   "outputs": [
    {
     "data": {
      "text/plain": [
       "34"
      ]
     },
     "execution_count": 6,
     "metadata": {},
     "output_type": "execute_result"
    }
   ],
   "source": [
    "len(scale)"
   ]
  },
  {
   "cell_type": "code",
   "execution_count": null,
   "metadata": {},
   "outputs": [],
   "source": []
  }
 ],
 "metadata": {
  "kernelspec": {
   "display_name": "Python 3",
   "language": "python",
   "name": "python3"
  },
  "language_info": {
   "codemirror_mode": {
    "name": "ipython",
    "version": 3
   },
   "file_extension": ".py",
   "mimetype": "text/x-python",
   "name": "python",
   "nbconvert_exporter": "python",
   "pygments_lexer": "ipython3",
   "version": "3.9.16"
  }
 },
 "nbformat": 4,
 "nbformat_minor": 4
}
